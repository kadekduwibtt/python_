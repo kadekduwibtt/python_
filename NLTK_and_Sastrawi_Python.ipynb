{
  "nbformat": 4,
  "nbformat_minor": 0,
  "metadata": {
    "colab": {
      "provenance": [],
      "authorship_tag": "ABX9TyOR1fR85TLG/UApmynSmdu7",
      "include_colab_link": true
    },
    "kernelspec": {
      "name": "python3",
      "display_name": "Python 3"
    },
    "language_info": {
      "name": "python"
    }
  },
  "cells": [
    {
      "cell_type": "markdown",
      "metadata": {
        "id": "view-in-github",
        "colab_type": "text"
      },
      "source": [
        "<a href=\"https://colab.research.google.com/github/kadekduwibtt/python_/blob/main/NLTK_and_Sastrawi_Python.ipynb\" target=\"_parent\"><img src=\"https://colab.research.google.com/assets/colab-badge.svg\" alt=\"Open In Colab\"/></a>"
      ]
    },
    {
      "cell_type": "code",
      "source": [
        "import nltk\n",
        "from nltk.corpus import stopwords\n",
        "from nltk.tokenize import word_tokenize, sent_tokenize\n",
        "from nltk.stem import PorterStemmer\n",
        "\n",
        "nltk.download('stopwords')\n",
        "nltk.download('punkt')\n",
        "\n",
        "# Sample text from Wikipedia\n",
        "text = \"Natural language processing (NLP) is a subfield of linguistics, computer science, and artificial intelligence concerned with the interactions between computers and human languages.\"\n",
        "\n",
        "# Tokenization\n",
        "tokens = [word.lower() for sent in sent_tokenize(text) for word in word_tokenize(sent)]\n",
        "\n",
        "# Stop words removal\n",
        "stop_words = set(stopwords.words('english'))\n",
        "filtered_tokens = [token for token in tokens if token not in stop_words]\n",
        "\n",
        "# Stemming\n",
        "stemmer = PorterStemmer()\n",
        "stemmed_tokens = [stemmer.stem(token) for token in filtered_tokens]\n",
        "\n",
        "print(\"Original Text: \\n\", text)\n",
        "print(\"\\nTokens: \\n\", tokens)\n",
        "print(\"\\nFiltered Tokens (without stop words): \\n\", filtered_tokens)\n",
        "print(\"\\nStemmed Tokens: \\n\", stemmed_tokens)\n"
      ],
      "metadata": {
        "colab": {
          "base_uri": "https://localhost:8080/"
        },
        "id": "5XYrhA05cUpW",
        "outputId": "64ea15a3-7d7b-42f2-91c4-36a8a87d3648"
      },
      "execution_count": null,
      "outputs": [
        {
          "output_type": "stream",
          "name": "stdout",
          "text": [
            "Original Text: \n",
            " Natural language processing (NLP) is a subfield of linguistics, computer science, and artificial intelligence concerned with the interactions between computers and human languages.\n",
            "\n",
            "Tokens: \n",
            " ['natural', 'language', 'processing', '(', 'nlp', ')', 'is', 'a', 'subfield', 'of', 'linguistics', ',', 'computer', 'science', ',', 'and', 'artificial', 'intelligence', 'concerned', 'with', 'the', 'interactions', 'between', 'computers', 'and', 'human', 'languages', '.']\n",
            "\n",
            "Filtered Tokens (without stop words): \n",
            " ['natural', 'language', 'processing', '(', 'nlp', ')', 'subfield', 'linguistics', ',', 'computer', 'science', ',', 'artificial', 'intelligence', 'concerned', 'interactions', 'computers', 'human', 'languages', '.']\n",
            "\n",
            "Stemmed Tokens: \n",
            " ['natur', 'languag', 'process', '(', 'nlp', ')', 'subfield', 'linguist', ',', 'comput', 'scienc', ',', 'artifici', 'intellig', 'concern', 'interact', 'comput', 'human', 'languag', '.']\n"
          ]
        },
        {
          "output_type": "stream",
          "name": "stderr",
          "text": [
            "[nltk_data] Downloading package stopwords to /root/nltk_data...\n",
            "[nltk_data]   Package stopwords is already up-to-date!\n",
            "[nltk_data] Downloading package punkt to /root/nltk_data...\n",
            "[nltk_data]   Package punkt is already up-to-date!\n"
          ]
        }
      ]
    },
    {
      "cell_type": "code",
      "source": [
        "import nltk\n",
        "from nltk.corpus import stopwords\n",
        "from nltk.tokenize import word_tokenize, sent_tokenize\n",
        "from nltk.stem import PorterStemmer\n",
        "\n",
        "nltk.download('stopwords')\n",
        "nltk.download('punkt')\n",
        "nltk.download('indonesian')\n",
        "\n",
        "# Sample text from Wikipedia\n",
        "text = \"Pemrosesan bahasa alami (PBA) adalah sebuah cabang ilmu linguistik, ilmu komputer, dan kecerdasan buatan yang berkaitan dengan interaksi antara komputer dan bahasa manusia.\"\n",
        "\n",
        "# Tokenization\n",
        "tokens = [word.lower() for sent in sent_tokenize(text) for word in word_tokenize(sent)]\n",
        "\n",
        "# Stop words removal\n",
        "stop_words = set(stopwords.words('indonesian'))\n",
        "filtered_tokens = [token for token in tokens if token not in stop_words]\n",
        "\n",
        "# Stemming\n",
        "stemmer = PorterStemmer()\n",
        "stemmed_tokens = [stemmer.stem(token) for token in filtered_tokens]\n",
        "\n",
        "print(\"Original Text: \\n\", text)\n",
        "print(\"\\nTokens: \\n\", tokens)\n",
        "print(\"\\nFiltered Tokens (without stop words): \\n\", filtered_tokens)\n",
        "print(\"\\nStemmed Tokens: \\n\", stemmed_tokens)\n"
      ],
      "metadata": {
        "colab": {
          "base_uri": "https://localhost:8080/"
        },
        "id": "qp2okwoJfTKn",
        "outputId": "446f6d43-eab9-4a60-8277-1b7bef9dc254"
      },
      "execution_count": null,
      "outputs": [
        {
          "output_type": "stream",
          "name": "stdout",
          "text": [
            "Original Text: \n",
            " Pemrosesan bahasa alami (PBA) adalah sebuah cabang ilmu linguistik, ilmu komputer, dan kecerdasan buatan yang berkaitan dengan interaksi antara komputer dan bahasa manusia.\n",
            "\n",
            "Tokens: \n",
            " ['pemrosesan', 'bahasa', 'alami', '(', 'pba', ')', 'adalah', 'sebuah', 'cabang', 'ilmu', 'linguistik', ',', 'ilmu', 'komputer', ',', 'dan', 'kecerdasan', 'buatan', 'yang', 'berkaitan', 'dengan', 'interaksi', 'antara', 'komputer', 'dan', 'bahasa', 'manusia', '.']\n",
            "\n",
            "Filtered Tokens (without stop words): \n",
            " ['pemrosesan', 'bahasa', 'alami', '(', 'pba', ')', 'cabang', 'ilmu', 'linguistik', ',', 'ilmu', 'komputer', ',', 'kecerdasan', 'buatan', 'berkaitan', 'interaksi', 'komputer', 'bahasa', 'manusia', '.']\n",
            "\n",
            "Stemmed Tokens: \n",
            " ['pemrosesan', 'bahasa', 'alami', '(', 'pba', ')', 'cabang', 'ilmu', 'linguistik', ',', 'ilmu', 'komput', ',', 'kecerdasan', 'buatan', 'berkaitan', 'interaksi', 'komput', 'bahasa', 'manusia', '.']\n"
          ]
        },
        {
          "output_type": "stream",
          "name": "stderr",
          "text": [
            "[nltk_data] Downloading package stopwords to /root/nltk_data...\n",
            "[nltk_data]   Package stopwords is already up-to-date!\n",
            "[nltk_data] Downloading package punkt to /root/nltk_data...\n",
            "[nltk_data]   Package punkt is already up-to-date!\n",
            "[nltk_data] Error loading indonesian: Package 'indonesian' not found\n",
            "[nltk_data]     in index\n"
          ]
        }
      ]
    },
    {
      "cell_type": "code",
      "source": [
        "import nltk\n",
        "from Sastrawi.Stemmer.StemmerFactory import StemmerFactory\n",
        "\n",
        "# Sample text from Wikipedia\n",
        "text = \"Pemrosesan bahasa alami (PBA) adalah sebuah cabang ilmu linguistik, ilmu komputer, dan kecerdasan buatan yang berkaitan dengan interaksi antara komputer dan bahasa manusia.\"\n",
        "\n",
        "# Tokenization\n",
        "tokens = nltk.word_tokenize(text.lower())\n",
        "\n",
        "# Stop words removal\n",
        "stop_words = set(nltk.corpus.stopwords.words('indonesian'))\n",
        "filtered_tokens = [token for token in tokens if token not in stop_words]\n",
        "\n",
        "# Stemming\n",
        "factory = StemmerFactory()\n",
        "stemmer = factory.create_stemmer()\n",
        "stemmed_tokens = [stemmer.stem(token) for token in filtered_tokens]\n",
        "\n",
        "print(\"Original Text: \\n\", text)\n",
        "print(\"\\nTokens: \\n\", tokens)\n",
        "print(\"\\nFiltered Tokens (without stop words): \\n\", filtered_tokens)\n",
        "print(\"\\nStemmed Tokens: \\n\", stemmed_tokens)\n"
      ],
      "metadata": {
        "colab": {
          "base_uri": "https://localhost:8080/"
        },
        "id": "hfmGIZQjfXzC",
        "outputId": "aae29101-8db8-4292-a54e-e4732ef53730"
      },
      "execution_count": null,
      "outputs": [
        {
          "output_type": "stream",
          "name": "stdout",
          "text": [
            "Original Text: \n",
            " Pemrosesan bahasa alami (PBA) adalah sebuah cabang ilmu linguistik, ilmu komputer, dan kecerdasan buatan yang berkaitan dengan interaksi antara komputer dan bahasa manusia.\n",
            "\n",
            "Tokens: \n",
            " ['pemrosesan', 'bahasa', 'alami', '(', 'pba', ')', 'adalah', 'sebuah', 'cabang', 'ilmu', 'linguistik', ',', 'ilmu', 'komputer', ',', 'dan', 'kecerdasan', 'buatan', 'yang', 'berkaitan', 'dengan', 'interaksi', 'antara', 'komputer', 'dan', 'bahasa', 'manusia', '.']\n",
            "\n",
            "Filtered Tokens (without stop words): \n",
            " ['pemrosesan', 'bahasa', 'alami', '(', 'pba', ')', 'cabang', 'ilmu', 'linguistik', ',', 'ilmu', 'komputer', ',', 'kecerdasan', 'buatan', 'berkaitan', 'interaksi', 'komputer', 'bahasa', 'manusia', '.']\n",
            "\n",
            "Stemmed Tokens: \n",
            " ['pemrosesan', 'bahasa', 'alami', '', 'pba', '', 'cabang', 'ilmu', 'linguistik', '', 'ilmu', 'komputer', '', 'cerdas', 'buat', 'kait', 'interaksi', 'komputer', 'bahasa', 'manusia', '']\n"
          ]
        }
      ]
    }
  ]
}